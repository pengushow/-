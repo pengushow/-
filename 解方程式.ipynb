{
 "cells": [
  {
   "cell_type": "markdown",
   "id": "aefa2a10-4dde-43f7-a5e6-78489ea6f24e",
   "metadata": {},
   "source": [
    "# 3線性方程組"
   ]
  },
  {
   "cell_type": "code",
   "execution_count": 2,
   "id": "93788a6a-f89f-4f66-bb13-5e5eef490c7b",
   "metadata": {},
   "outputs": [
    {
     "data": {
      "text/plain": [
       "(56, 39, 64)"
      ]
     },
     "execution_count": 2,
     "metadata": {},
     "output_type": "execute_result"
    }
   ],
   "source": [
    "#自己令解，出題目\n",
    "import numpy as np\n",
    "# x=5 y=6 z=2\n",
    "#ex1\n",
    "x=5 \n",
    "y=6 \n",
    "z=2\n",
    "k1=2*x+5*y+8*z\n",
    "k2=5*x+2*y+z\n",
    "k3=8*x+2*y+6*z\n",
    "k1,k2,k3"
   ]
  },
  {
   "cell_type": "code",
   "execution_count": 3,
   "id": "db5652db-03cb-4f32-a866-72e98c2eee4b",
   "metadata": {},
   "outputs": [
    {
     "name": "stdout",
     "output_type": "stream",
     "text": [
      "[[5.]\n",
      " [6.]\n",
      " [2.]]\n"
     ]
    }
   ],
   "source": [
    "#寫出係數矩陣 A\n",
    "A = np.array([\n",
    "    [2, 5, 8],\n",
    "    [5, 2, 1],\n",
    "    [8, 2, 6],\n",
    "    \n",
    "])\n",
    "# 寫出常數矩陣 B\n",
    "B = np.array([56, 39, 64]).reshape(3, 1)\n",
    "# 找出係數矩陣的反矩陣 A_inv\n",
    "A_inv = np.linalg.inv(A)\n",
    "# 將 A_inv 與 B 相乘，即可得到解\n",
    "ans = A_inv.dot(B)\n",
    "print(ans)"
   ]
  },
  {
   "cell_type": "code",
   "execution_count": 4,
   "id": "5c35e18e-d726-4ff4-afcb-6c32044f4ea8",
   "metadata": {},
   "outputs": [
    {
     "data": {
      "text/plain": [
       "array([[56],\n",
       "       [39],\n",
       "       [64]])"
      ]
     },
     "execution_count": 4,
     "metadata": {},
     "output_type": "execute_result"
    }
   ],
   "source": [
    "B\n"
   ]
  },
  {
   "cell_type": "code",
   "execution_count": 7,
   "id": "7dc42cff-a12f-4dd0-b976-8102b01d1a4a",
   "metadata": {},
   "outputs": [],
   "source": [
    "import random\n",
    "#random.randrange(a, b)  從a到b中隨機產生一筆整數資料\n",
    "#for number in range(3)"
   ]
  },
  {
   "cell_type": "markdown",
   "id": "ea0a3242-581b-418f-9895-defcd4957bff",
   "metadata": {},
   "source": [
    "# 5線性方程組"
   ]
  },
  {
   "cell_type": "code",
   "execution_count": 8,
   "id": "26627cd5-268a-40fd-822f-48938a3bee63",
   "metadata": {},
   "outputs": [
    {
     "data": {
      "text/plain": [
       "[-5, -3, 4, 1, 3]"
      ]
     },
     "execution_count": 8,
     "metadata": {},
     "output_type": "execute_result"
    }
   ],
   "source": [
    "#解\n",
    "v=[0 for i in range(5)]\n",
    "\n",
    "for n in range(5):\n",
    "    v[n]=random.randrange(-5, 5)\n",
    "    #random.randrange(-5, 5)\n",
    "v"
   ]
  },
  {
   "cell_type": "code",
   "execution_count": 9,
   "id": "57908dc6-c6f6-4b17-a6f9-301d225e0aff",
   "metadata": {},
   "outputs": [
    {
     "data": {
      "text/plain": [
       "[[4, 3, -2, -2, 2],\n",
       " [-4, -3, -2, 4, -1],\n",
       " [4, -3, 2, 2, 0],\n",
       " [-1, 4, -1, 2, 2],\n",
       " [1, -1, 3, -5, 2]]"
      ]
     },
     "execution_count": 9,
     "metadata": {},
     "output_type": "execute_result"
    }
   ],
   "source": [
    "A = [[0]*5 for i in range(5)]\n",
    "for n in range(5):\n",
    "    for i in range(5):\n",
    "        A[n][i]=random.randrange(-5, 5)\n",
    "A"
   ]
  },
  {
   "cell_type": "code",
   "execution_count": 10,
   "id": "ad6c2a1b-47a4-45ad-ae9a-ea93feba2544",
   "metadata": {},
   "outputs": [
    {
     "data": {
      "text/plain": [
       "[-33, 22, -1, -3, 11]"
      ]
     },
     "execution_count": 10,
     "metadata": {},
     "output_type": "execute_result"
    }
   ],
   "source": [
    "#B\n",
    "Ans = [0 for i in range(5)]\n",
    "tem=0\n",
    "for n in range(5):\n",
    "    for i in range(5):\n",
    "        Ans[n]+=v[i]*A[n][i]\n",
    "        #Ans[n]=Ans[n]+tem\n",
    "        \n",
    "        \n",
    "Ans\n"
   ]
  },
  {
   "cell_type": "code",
   "execution_count": 11,
   "id": "e3468e06-f107-4f40-b0f6-a94e73bb8e00",
   "metadata": {},
   "outputs": [
    {
     "name": "stdout",
     "output_type": "stream",
     "text": [
      "[[-5.]\n",
      " [-3.]\n",
      " [ 4.]\n",
      " [ 1.]\n",
      " [ 3.]]\n"
     ]
    }
   ],
   "source": [
    "#寫出係數矩陣 AA\n",
    "AA = np.array(A)\n",
    "\n",
    "# 寫出常數矩陣 B\n",
    "B = np.array(Ans).reshape(5, 1)\n",
    "# 找出係數矩陣的反矩陣 A_inv\n",
    "AA_inv = np.linalg.inv(AA)\n",
    "# 將 A_inv 與 B 相乘，即可得到解\n",
    "ans = AA_inv.dot(B)\n",
    "print(ans)\n",
    "\n"
   ]
  },
  {
   "cell_type": "markdown",
   "id": "8d740e40-754f-48ce-95ba-913793b36f8d",
   "metadata": {},
   "source": [
    "# 10線性方程組"
   ]
  },
  {
   "cell_type": "code",
   "execution_count": 13,
   "id": "562fb804-be6d-4ac9-b33b-71b09fdddafd",
   "metadata": {},
   "outputs": [
    {
     "data": {
      "text/plain": [
       "[4, -2, 0, 1, -1, -1, -2, -5, -5, -5]"
      ]
     },
     "execution_count": 13,
     "metadata": {},
     "output_type": "execute_result"
    }
   ],
   "source": [
    "#解\n",
    "v=[0 for i in range(10)]\n",
    "\n",
    "for n in range(10):\n",
    "    v[n]=random.randrange(-5, 5)\n",
    "    #random.randrange(-5, 5)\n",
    "v"
   ]
  },
  {
   "cell_type": "code",
   "execution_count": 14,
   "id": "6d34a1f2-219b-4a05-878b-ca4951b3faab",
   "metadata": {},
   "outputs": [
    {
     "data": {
      "text/plain": [
       "[[-5, -3, 2, 3, 0, 0, 4, -4, 4, 0],\n",
       " [-3, 3, -1, 3, 2, -2, 2, 1, 2, -3],\n",
       " [3, 4, -1, 2, 4, -2, -5, 1, -5, -1],\n",
       " [-3, 0, 4, -5, -3, 2, -1, -1, 2, 4],\n",
       " [1, -4, -5, 2, -2, -3, 3, 0, -4, 2],\n",
       " [-1, -1, -5, 2, 0, 0, 4, 3, 2, 0],\n",
       " [0, 3, -3, 3, -4, -3, 1, 3, 2, -4],\n",
       " [4, 2, 2, 0, 2, -1, -2, -4, -3, 3],\n",
       " [0, -1, -3, 4, 4, 2, -5, -2, -4, -5],\n",
       " [-4, -4, -5, -4, 2, -1, -2, 2, -5, 2]]"
      ]
     },
     "execution_count": 14,
     "metadata": {},
     "output_type": "execute_result"
    }
   ],
   "source": [
    "A = [[0]*10 for i in range(10)]\n",
    "for n in range(10):\n",
    "    for i in range(10):\n",
    "        A[n][i]=random.randrange(-5, 5)\n",
    "A"
   ]
  },
  {
   "cell_type": "code",
   "execution_count": 15,
   "id": "6b8f926b-323d-4497-b4a5-515b77516f8f",
   "metadata": {},
   "outputs": [
    {
     "data": {
      "text/plain": [
       "[-19, -19, 39, -39, 23, -33, -3, 35, 65, -4]"
      ]
     },
     "execution_count": 15,
     "metadata": {},
     "output_type": "execute_result"
    }
   ],
   "source": [
    "#B\n",
    "Ans = [0 for i in range(10)]\n",
    "for n in range(10):\n",
    "    for i in range(10):\n",
    "        Ans[n]+=v[i]*A[n][i]\n",
    "        #Ans[n]=Ans[n]+tem\n",
    "        \n",
    "        \n",
    "Ans"
   ]
  },
  {
   "cell_type": "code",
   "execution_count": 16,
   "id": "d71253c6-a0c8-449c-9dd6-2c337edeacd5",
   "metadata": {},
   "outputs": [
    {
     "name": "stdout",
     "output_type": "stream",
     "text": [
      "[[ 4.]\n",
      " [-2.]\n",
      " [ 0.]\n",
      " [ 1.]\n",
      " [-1.]\n",
      " [-1.]\n",
      " [-2.]\n",
      " [-5.]\n",
      " [-5.]\n",
      " [-5.]]\n"
     ]
    }
   ],
   "source": [
    "#寫出係數矩陣 AA\n",
    "AA = np.array(A)\n",
    "\n",
    "# 寫出常數矩陣 B\n",
    "B = np.array(Ans).reshape(10, 1)\n",
    "# 找出係數矩陣的反矩陣 A_inv\n",
    "AA_inv = np.linalg.inv(AA)\n",
    "# 將 A_inv 與 B 相乘，即可得到解\n",
    "ans = AA_inv.dot(B)\n",
    "print(np.round(ans))  #取整數\n"
   ]
  },
  {
   "cell_type": "code",
   "execution_count": null,
   "id": "88a388a5-762d-4675-997b-bd78498fa298",
   "metadata": {},
   "outputs": [],
   "source": [
    "#另解\n",
    "n= np.random.randint(2,10) \n",
    "\n",
    " \n",
    "\n",
    "np.random.seed(0) \n",
    "\n",
    "A= np.random.randint(-5,5,size=(n,n)) \n",
    "\n",
    " \n",
    "\n",
    "np.random.seed(1) \n",
    "\n",
    "b= np.random.randint(-5,5,size=(n,1)) \n",
    "\n",
    " \n",
    "\n",
    "x= np.linalg.solve(A, b) \n",
    "x,A,b"
   ]
  }
 ],
 "metadata": {
  "kernelspec": {
   "display_name": "Python 3",
   "language": "python",
   "name": "python3"
  },
  "language_info": {
   "codemirror_mode": {
    "name": "ipython",
    "version": 3
   },
   "file_extension": ".py",
   "mimetype": "text/x-python",
   "name": "python",
   "nbconvert_exporter": "python",
   "pygments_lexer": "ipython3",
   "version": "3.8.8"
  }
 },
 "nbformat": 4,
 "nbformat_minor": 5
}
