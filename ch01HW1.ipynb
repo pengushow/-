{
 "cells": [
  {
   "cell_type": "code",
   "execution_count": 10,
   "id": "5a4eb07f-5544-48c4-b366-ad7267e4075b",
   "metadata": {},
   "outputs": [
    {
     "name": "stdout",
     "output_type": "stream",
     "text": [
      "[[1. 3. 4.]\n",
      " [2. 1. 3.]\n",
      " [4. 1. 2.]]\n",
      "[[1. 3. 4.]\n",
      " [2. 1. 3.]\n",
      " [4. 1. 2.]]\n",
      "[[1.  0.  0. ]\n",
      " [2.  1.  0. ]\n",
      " [4.  2.2 1. ]]\n",
      "[[ 1  3  4]\n",
      " [ 0 -5 -5]\n",
      " [ 0  0 -3]]\n"
     ]
    }
   ],
   "source": [
    "import numpy as np\n",
    "import scipy.linalg as la\n",
    "np.set_printoptions(suppress=True)\n",
    "\n",
    "A = np.array([[1,3,4],[2,1,3],[4,1,2]])\n",
    "\n",
    "L = np.array([[1,0,0],[2,1,0],[4,11/5,1]])\n",
    "U = np.array([[1,3,4],[0,-5,-5],[0,0,-3]])\n",
    "print(L.dot(U))\n",
    "print(np.dot(L,U))\n",
    "print(L)\n",
    "print(U)"
   ]
  },
  {
   "cell_type": "markdown",
   "id": "0771aec0-6f7c-4d19-8f9e-06740cabb4d7",
   "metadata": {
    "tags": []
   },
   "source": [
    "# A=PLU"
   ]
  },
  {
   "cell_type": "code",
   "execution_count": 17,
   "id": "bae3f5f6-7bfc-4d39-aab8-9ea6da16869b",
   "metadata": {},
   "outputs": [
    {
     "name": "stdout",
     "output_type": "stream",
     "text": [
      "[[1 3 4]\n",
      " [2 1 3]\n",
      " [4 1 2]]\n",
      "[[4. 1. 2.]\n",
      " [1. 3. 4.]\n",
      " [2. 1. 3.]]\n",
      "[[4. 1. 2.]\n",
      " [1. 3. 4.]\n",
      " [2. 1. 3.]]\n",
      "[[0. 1. 0.]\n",
      " [0. 0. 1.]\n",
      " [1. 0. 0.]]\n",
      "[[1.         0.         0.        ]\n",
      " [0.25       1.         0.        ]\n",
      " [0.5        0.18181818 1.        ]]\n",
      "[[4.         1.         2.        ]\n",
      " [0.         2.75       3.5       ]\n",
      " [0.         0.         1.36363636]]\n"
     ]
    }
   ],
   "source": [
    "import numpy as np\n",
    "import scipy.linalg as la\n",
    "np.set_printoptions(suppress=True)\n",
    "\n",
    "A = np.array([[1,3,4],[2,1,3],[4,1,2]])\n",
    "\n",
    "print(A)\n",
    "\n",
    "P, L, U = la.lu(A)\n",
    "print(np.dot(P.T, A))\n",
    "print(np.dot(L, U))\n",
    "print(P)\n",
    "print(L)\n",
    "print(U)"
   ]
  },
  {
   "cell_type": "code",
   "execution_count": 14,
   "id": "d5fa4c3f-b770-4904-9c2f-89be49b3f847",
   "metadata": {},
   "outputs": [
    {
     "name": "stdout",
     "output_type": "stream",
     "text": [
      "[[1. 3. 4.]\n",
      " [2. 1. 3.]\n",
      " [4. 1. 2.]]\n",
      "[[4. 1. 2.]\n",
      " [1. 3. 4.]\n",
      " [2. 1. 3.]]\n"
     ]
    }
   ],
   "source": [
    "print(P@L@U)\n",
    "print(np.dot(L, U))"
   ]
  },
  {
   "cell_type": "markdown",
   "id": "4dc0dfe1-71f9-4e7d-a7aa-42f70e0aed81",
   "metadata": {},
   "source": [
    "# Matrix decompositions"
   ]
  },
  {
   "cell_type": "code",
   "execution_count": 149,
   "id": "f174b5a3-2161-496e-aa65-e9349ec0f580",
   "metadata": {},
   "outputs": [
    {
     "name": "stdout",
     "output_type": "stream",
     "text": [
      "A= \n",
      "[[ 3  3  1 -3  3]\n",
      " [ 2 -3 -4  0 -1]\n",
      " [-1  0  2 -2  1]\n",
      " [-1 -2  2  1 -4]\n",
      " [-2  0  3 -1  1]]\n",
      "det= -136\n"
     ]
    }
   ],
   "source": [
    "n= 5  \n",
    "\n",
    " \n",
    "\n",
    "np.random.seed(2) \n",
    "\n",
    "A= np.random.randint(-5,5,size=(n,n)) \n",
    "\n",
    "print(f'A= \\n{A}')  \n",
    "\n",
    "det= np.linalg.det(A) \n",
    "\n",
    "print(f'det= {round(det)}') "
   ]
  },
  {
   "cell_type": "code",
   "execution_count": 150,
   "id": "13dcfe8e-ac92-473e-98ab-caab55a6c51b",
   "metadata": {},
   "outputs": [
    {
     "name": "stdout",
     "output_type": "stream",
     "text": [
      "\n",
      "[[-3, -4, 0, -1], [0, 2, -2, 1], [-2, 2, 1, -4], [0, 3, -1, 1]]\n",
      "\n",
      "[[2, -4, 0, -1], [-1, 2, -2, 1], [-1, 2, 1, -4], [-2, 3, -1, 1]]\n",
      "\n",
      "[[2, -3, 0, -1], [-1, 0, -2, 1], [-1, -2, 1, -4], [-2, 0, -1, 1]]\n",
      "\n",
      "[[2, -3, -4, -1], [-1, 0, 2, 1], [-1, -2, 2, -4], [-2, 0, 3, 1]]\n",
      "\n",
      "[[2, -3, -4, 0], [-1, 0, 2, -2], [-1, -2, 2, 1], [-2, 0, 3, -1]]\n",
      "det= -136\n"
     ]
    }
   ],
   "source": [
    "#sub-matrix \n",
    "det2=0\n",
    "m=5\n",
    "for n in range(m):\n",
    "    AA=[[0]*(m-1)for i in range(m-1)]\n",
    "    for i in range(m-1):\n",
    "        for j in range(m-1):\n",
    "            if (j>=n):\n",
    "                AA[i][j]=A[i+1][j+1]\n",
    "            else:\n",
    "                AA[i][j]=A[i+1][j]  \n",
    "    print(f'\\n{AA}') \n",
    "    det2+=A[0][n]*((-1)**n)*np.linalg.det(AA) \n",
    "print(f'det= {round(det2)}') "
   ]
  },
  {
   "cell_type": "code",
   "execution_count": null,
   "id": "6970535a-e1c6-4d0f-8e47-d198196f7c2f",
   "metadata": {},
   "outputs": [],
   "source": []
  },
  {
   "cell_type": "code",
   "execution_count": null,
   "id": "48dbb48b-ab07-4427-b9e9-cc3c561db387",
   "metadata": {},
   "outputs": [],
   "source": []
  }
 ],
 "metadata": {
  "kernelspec": {
   "display_name": "Python 3",
   "language": "python",
   "name": "python3"
  },
  "language_info": {
   "codemirror_mode": {
    "name": "ipython",
    "version": 3
   },
   "file_extension": ".py",
   "mimetype": "text/x-python",
   "name": "python",
   "nbconvert_exporter": "python",
   "pygments_lexer": "ipython3",
   "version": "3.8.8"
  }
 },
 "nbformat": 4,
 "nbformat_minor": 5
}
