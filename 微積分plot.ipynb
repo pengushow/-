{
 "cells": [
  {
   "cell_type": "code",
   "execution_count": 2,
   "id": "22c27c35-b341-4482-849d-67a5e7914694",
   "metadata": {},
   "outputs": [],
   "source": [
    "import sympy as sm"
   ]
  },
  {
   "cell_type": "code",
   "execution_count": null,
   "id": "599ae986-e837-4f10-8064-36f06013beee",
   "metadata": {},
   "outputs": [],
   "source": []
  },
  {
   "cell_type": "code",
   "execution_count": 4,
   "id": "89f799e8-85e3-410f-b62f-bec5318e67d5",
   "metadata": {},
   "outputs": [],
   "source": [
    "x=sm.symbols('x')\n",
    "y1=5*x\n",
    "y2=x**2\n",
    "y3=x**3\n",
    "y4=x**x"
   ]
  },
  {
   "cell_type": "code",
   "execution_count": 5,
   "id": "536053aa-13d1-4c30-96c9-e1c06cf8d14d",
   "metadata": {},
   "outputs": [
    {
     "data": {
      "text/latex": [
       "$\\displaystyle 5$"
      ],
      "text/plain": [
       "5"
      ]
     },
     "execution_count": 5,
     "metadata": {},
     "output_type": "execute_result"
    }
   ],
   "source": [
    "y1.diff(x)"
   ]
  },
  {
   "cell_type": "code",
   "execution_count": 6,
   "id": "6b5ae62b-5f36-4c97-970b-b630374989dc",
   "metadata": {},
   "outputs": [
    {
     "data": {
      "text/latex": [
       "$\\displaystyle \\frac{x^{3}}{3}$"
      ],
      "text/plain": [
       "x**3/3"
      ]
     },
     "execution_count": 6,
     "metadata": {},
     "output_type": "execute_result"
    }
   ],
   "source": [
    "y2.integrate(x)"
   ]
  },
  {
   "cell_type": "code",
   "execution_count": 32,
   "id": "01510698-d191-431d-b95d-704ebacafcb1",
   "metadata": {},
   "outputs": [
    {
     "name": "stdout",
     "output_type": "stream",
     "text": [
      "Integral(x**x, x)\n"
     ]
    },
    {
     "data": {
      "text/latex": [
       "$\\displaystyle \\int x^{x}\\, dx$"
      ],
      "text/plain": [
       "Integral(x**x, x)"
      ]
     },
     "execution_count": 32,
     "metadata": {},
     "output_type": "execute_result"
    }
   ],
   "source": [
    "print(y4.integrate(x))\n",
    "y4.integrate(x)  #=  display(y4.integrate(x)) "
   ]
  },
  {
   "cell_type": "markdown",
   "id": "794fa726-41fe-4770-aa94-6e2fdf5ab1ed",
   "metadata": {},
   "source": [
    "## 畫圖"
   ]
  },
  {
   "cell_type": "code",
   "execution_count": null,
   "id": "c2aee87b-9e97-4f54-a28b-ebd8bf3937be",
   "metadata": {},
   "outputs": [],
   "source": [
    "\n",
    "\n",
    "%matplotlib qt \n",
    "\n",
    " \n",
    "\n",
    "fg= sm.plotting.plot( \n",
    "\n",
    "    y1,  \n",
    "\n",
    "    y2, \n",
    "\n",
    "    y3, \n",
    "\n",
    "    y4, \n",
    "\n",
    "   (x,-1,2.5), \n",
    "\n",
    "    xlabel= f'x', \n",
    "\n",
    "    ylabel= f'y', \n",
    "\n",
    "    title=  f'y1, y2, y3, y4= {y1}, {y2}, {y3}, {y4}'\n",
    "\n",
    ") \n",
    "\n",
    "fg[0].line_color= 'red' \n",
    "\n",
    "fg[1].line_color= 'green' \n",
    "\n",
    "fg[2].line_color= 'blue' \n",
    "\n",
    "fg[3].line_color= 'magenta' \n",
    "\n",
    "fg.legend=True  #圖例\n",
    "\n",
    "fg.show() "
   ]
  },
  {
   "cell_type": "markdown",
   "id": "b3a69e26-fa56-4bf3-af41-20312a9edfdc",
   "metadata": {},
   "source": [
    "## SUM"
   ]
  },
  {
   "cell_type": "code",
   "execution_count": 30,
   "id": "7a86268b-ee4f-4ab7-8ebd-ed6788c39f4d",
   "metadata": {},
   "outputs": [
    {
     "name": "stdout",
     "output_type": "stream",
     "text": [
      "k= 0\n",
      "f= Sum(1, (i, 1, n))\n",
      "f= n\n"
     ]
    },
    {
     "data": {
      "text/latex": [
       "$\\displaystyle \\sum_{i=1}^{n} 1$"
      ],
      "text/plain": [
       "Sum(1, (i, 1, n))"
      ]
     },
     "metadata": {},
     "output_type": "display_data"
    },
    {
     "data": {
      "text/latex": [
       "$\\displaystyle n$"
      ],
      "text/plain": [
       "n"
      ]
     },
     "metadata": {},
     "output_type": "display_data"
    },
    {
     "name": "stdout",
     "output_type": "stream",
     "text": [
      "----------\n",
      "k= 1\n",
      "f= Sum(i, (i, 1, n))\n",
      "f= n**2/2 + n/2\n"
     ]
    },
    {
     "data": {
      "text/latex": [
       "$\\displaystyle \\sum_{i=1}^{n} i$"
      ],
      "text/plain": [
       "Sum(i, (i, 1, n))"
      ]
     },
     "metadata": {},
     "output_type": "display_data"
    },
    {
     "data": {
      "text/latex": [
       "$\\displaystyle \\frac{n^{2}}{2} + \\frac{n}{2}$"
      ],
      "text/plain": [
       "n**2/2 + n/2"
      ]
     },
     "metadata": {},
     "output_type": "display_data"
    },
    {
     "name": "stdout",
     "output_type": "stream",
     "text": [
      "----------\n",
      "k= 2\n",
      "f= Sum(i**2, (i, 1, n))\n",
      "f= n**3/3 + n**2/2 + n/6\n"
     ]
    },
    {
     "data": {
      "text/latex": [
       "$\\displaystyle \\sum_{i=1}^{n} i^{2}$"
      ],
      "text/plain": [
       "Sum(i**2, (i, 1, n))"
      ]
     },
     "metadata": {},
     "output_type": "display_data"
    },
    {
     "data": {
      "text/latex": [
       "$\\displaystyle \\frac{n^{3}}{3} + \\frac{n^{2}}{2} + \\frac{n}{6}$"
      ],
      "text/plain": [
       "n**3/3 + n**2/2 + n/6"
      ]
     },
     "metadata": {},
     "output_type": "display_data"
    },
    {
     "name": "stdout",
     "output_type": "stream",
     "text": [
      "----------\n",
      "k= 3\n",
      "f= Sum(i**3, (i, 1, n))\n",
      "f= n**4/4 + n**3/2 + n**2/4\n"
     ]
    },
    {
     "data": {
      "text/latex": [
       "$\\displaystyle \\sum_{i=1}^{n} i^{3}$"
      ],
      "text/plain": [
       "Sum(i**3, (i, 1, n))"
      ]
     },
     "metadata": {},
     "output_type": "display_data"
    },
    {
     "data": {
      "text/latex": [
       "$\\displaystyle \\frac{n^{4}}{4} + \\frac{n^{3}}{2} + \\frac{n^{2}}{4}$"
      ],
      "text/plain": [
       "n**4/4 + n**3/2 + n**2/4"
      ]
     },
     "metadata": {},
     "output_type": "display_data"
    },
    {
     "name": "stdout",
     "output_type": "stream",
     "text": [
      "----------\n",
      "k= 4\n",
      "f= Sum(i**4, (i, 1, n))\n",
      "f= n**5/5 + n**4/2 + n**3/3 - n/30\n"
     ]
    },
    {
     "data": {
      "text/latex": [
       "$\\displaystyle \\sum_{i=1}^{n} i^{4}$"
      ],
      "text/plain": [
       "Sum(i**4, (i, 1, n))"
      ]
     },
     "metadata": {},
     "output_type": "display_data"
    },
    {
     "data": {
      "text/latex": [
       "$\\displaystyle \\frac{n^{5}}{5} + \\frac{n^{4}}{2} + \\frac{n^{3}}{3} - \\frac{n}{30}$"
      ],
      "text/plain": [
       "n**5/5 + n**4/2 + n**3/3 - n/30"
      ]
     },
     "metadata": {},
     "output_type": "display_data"
    },
    {
     "name": "stdout",
     "output_type": "stream",
     "text": [
      "----------\n",
      "k= 5\n",
      "f= Sum(i**5, (i, 1, n))\n",
      "f= n**6/6 + n**5/2 + 5*n**4/12 - n**2/12\n"
     ]
    },
    {
     "data": {
      "text/latex": [
       "$\\displaystyle \\sum_{i=1}^{n} i^{5}$"
      ],
      "text/plain": [
       "Sum(i**5, (i, 1, n))"
      ]
     },
     "metadata": {},
     "output_type": "display_data"
    },
    {
     "data": {
      "text/latex": [
       "$\\displaystyle \\frac{n^{6}}{6} + \\frac{n^{5}}{2} + \\frac{5 n^{4}}{12} - \\frac{n^{2}}{12}$"
      ],
      "text/plain": [
       "n**6/6 + n**5/2 + 5*n**4/12 - n**2/12"
      ]
     },
     "metadata": {},
     "output_type": "display_data"
    },
    {
     "name": "stdout",
     "output_type": "stream",
     "text": [
      "----------\n",
      "k= 6\n",
      "f= Sum(i**6, (i, 1, n))\n",
      "f= n**7/7 + n**6/2 + n**5/2 - n**3/6 + n/42\n"
     ]
    },
    {
     "data": {
      "text/latex": [
       "$\\displaystyle \\sum_{i=1}^{n} i^{6}$"
      ],
      "text/plain": [
       "Sum(i**6, (i, 1, n))"
      ]
     },
     "metadata": {},
     "output_type": "display_data"
    },
    {
     "data": {
      "text/latex": [
       "$\\displaystyle \\frac{n^{7}}{7} + \\frac{n^{6}}{2} + \\frac{n^{5}}{2} - \\frac{n^{3}}{6} + \\frac{n}{42}$"
      ],
      "text/plain": [
       "n**7/7 + n**6/2 + n**5/2 - n**3/6 + n/42"
      ]
     },
     "metadata": {},
     "output_type": "display_data"
    },
    {
     "name": "stdout",
     "output_type": "stream",
     "text": [
      "----------\n",
      "k= 7\n",
      "f= Sum(i**7, (i, 1, n))\n",
      "f= n**8/8 + n**7/2 + 7*n**6/12 - 7*n**4/24 + n**2/12\n"
     ]
    },
    {
     "data": {
      "text/latex": [
       "$\\displaystyle \\sum_{i=1}^{n} i^{7}$"
      ],
      "text/plain": [
       "Sum(i**7, (i, 1, n))"
      ]
     },
     "metadata": {},
     "output_type": "display_data"
    },
    {
     "data": {
      "text/latex": [
       "$\\displaystyle \\frac{n^{8}}{8} + \\frac{n^{7}}{2} + \\frac{7 n^{6}}{12} - \\frac{7 n^{4}}{24} + \\frac{n^{2}}{12}$"
      ],
      "text/plain": [
       "n**8/8 + n**7/2 + 7*n**6/12 - 7*n**4/24 + n**2/12"
      ]
     },
     "metadata": {},
     "output_type": "display_data"
    },
    {
     "name": "stdout",
     "output_type": "stream",
     "text": [
      "----------\n",
      "k= 8\n",
      "f= Sum(i**8, (i, 1, n))\n",
      "f= n**9/9 + n**8/2 + 2*n**7/3 - 7*n**5/15 + 2*n**3/9 - n/30\n"
     ]
    },
    {
     "data": {
      "text/latex": [
       "$\\displaystyle \\sum_{i=1}^{n} i^{8}$"
      ],
      "text/plain": [
       "Sum(i**8, (i, 1, n))"
      ]
     },
     "metadata": {},
     "output_type": "display_data"
    },
    {
     "data": {
      "text/latex": [
       "$\\displaystyle \\frac{n^{9}}{9} + \\frac{n^{8}}{2} + \\frac{2 n^{7}}{3} - \\frac{7 n^{5}}{15} + \\frac{2 n^{3}}{9} - \\frac{n}{30}$"
      ],
      "text/plain": [
       "n**9/9 + n**8/2 + 2*n**7/3 - 7*n**5/15 + 2*n**3/9 - n/30"
      ]
     },
     "metadata": {},
     "output_type": "display_data"
    },
    {
     "name": "stdout",
     "output_type": "stream",
     "text": [
      "----------\n",
      "k= 9\n",
      "f= Sum(i**9, (i, 1, n))\n",
      "f= n**10/10 + n**9/2 + 3*n**8/4 - 7*n**6/10 + n**4/2 - 3*n**2/20\n"
     ]
    },
    {
     "data": {
      "text/latex": [
       "$\\displaystyle \\sum_{i=1}^{n} i^{9}$"
      ],
      "text/plain": [
       "Sum(i**9, (i, 1, n))"
      ]
     },
     "metadata": {},
     "output_type": "display_data"
    },
    {
     "data": {
      "text/latex": [
       "$\\displaystyle \\frac{n^{10}}{10} + \\frac{n^{9}}{2} + \\frac{3 n^{8}}{4} - \\frac{7 n^{6}}{10} + \\frac{n^{4}}{2} - \\frac{3 n^{2}}{20}$"
      ],
      "text/plain": [
       "n**10/10 + n**9/2 + 3*n**8/4 - 7*n**6/10 + n**4/2 - 3*n**2/20"
      ]
     },
     "metadata": {},
     "output_type": "display_data"
    },
    {
     "name": "stdout",
     "output_type": "stream",
     "text": [
      "----------\n"
     ]
    }
   ],
   "source": [
    "i, n= sm.symbols('i, n') \n",
    "\n",
    "for k in range(10): \n",
    "\n",
    "     \n",
    "\n",
    "    f= sm.Sum( i**k,     #列式\n",
    "\n",
    "              (i, 1, n)) #i,from，to\n",
    "\n",
    "     \n",
    "\n",
    "    結果= f.doit() #運算\n",
    "\n",
    "     \n",
    "\n",
    "    print(f'k= {k}') \n",
    "\n",
    "    print(f'f= {f}') \n",
    "    print(f'f= {結果}') \n",
    "\n",
    "    display(f)       #\n",
    "\n",
    "    display(結果) \n",
    "\n",
    "    print(\"-\"*10) \n",
    "    "
   ]
  },
  {
   "cell_type": "markdown",
   "id": "88f0d50e-eb35-4aa9-b999-fdfe4d86f0d8",
   "metadata": {},
   "source": [
    "## Plot ，使用lambda"
   ]
  },
  {
   "cell_type": "code",
   "execution_count": 65,
   "id": "191d0a95-4990-48b8-9f90-5429f187a769",
   "metadata": {},
   "outputs": [
    {
     "data": {
      "text/plain": [
       "<function __main__.f(x)>"
      ]
     },
     "execution_count": 65,
     "metadata": {},
     "output_type": "execute_result"
    }
   ],
   "source": [
    "def f(x): \n",
    "\n",
    "    #y= sm.asin(x) \n",
    "\n",
    "    #y= sm.acos(x) \n",
    "\n",
    "    #y= sm.atan(x) \n",
    "    y= 1/(1+sm.exp(-x))\n",
    "\n",
    "    return y \n",
    "\n",
    "\n",
    "\n",
    " \n",
    "df_dx= lambda x: f(x).diff(x)  #定義函式\n",
    "\n",
    " \n",
    "\n",
    "def ryPlot(f,x,x0=-1, x1=1): \n",
    "\n",
    "    q= sm.plotting.plot(          #Y,(X,上限，下限)\n",
    "\n",
    "        f(x), \n",
    "\n",
    "        (x,x0,x1), \n",
    "\n",
    "        title= f'{f.__name__}', \n",
    "\n",
    "        show=False \n",
    "\n",
    "        ) \n",
    "\n",
    "    q.legend=True \n",
    "\n",
    "    q.show() \n",
    "ryPlot(f,x,-10,10) \n",
    "\n",
    "ryPlot(dx,x,-8,8) \n",
    "f"
   ]
  },
  {
   "cell_type": "code",
   "execution_count": 75,
   "id": "1040d678-68d8-4fd0-97ba-696286c86e07",
   "metadata": {},
   "outputs": [],
   "source": [
    "x, y= sm.symbols('x, y') \n",
    "f0=x\n",
    "f1=x+y\n",
    "f2=x+y*2\n",
    "f3=x+y**2\n",
    "f4=x*y\n",
    "f5=x*y**2\n",
    "f6=sm.sin(x)+sm.sin(y)\n",
    "f7=sm.sin(x)*sm.sin(y)"
   ]
  },
  {
   "cell_type": "code",
   "execution_count": 77,
   "id": "dd9af26e-a2db-437e-95aa-a680469c293d",
   "metadata": {},
   "outputs": [],
   "source": [
    "def f(x,y): \n",
    "\n",
    "     \n",
    "\n",
    "    z= x \n",
    "\n",
    "    #z= x + y \n",
    "\n",
    "    #z= x * y \n",
    "\n",
    "    #z= sm.sin(x) * sm.sin(y) \n",
    "\n",
    "     \n",
    "\n",
    "    return z \n",
    "\n",
    " \n",
    "\n",
    "x,y= sm.symbols('x,y') \n",
    "\n",
    "z= f(x,y) \n",
    "\n",
    " \n",
    "\n",
    "%matplotlib qt \n",
    "\n",
    "q= sm.plotting.plot3d( \n",
    "\n",
    "   z, \n",
    "\n",
    "   (x,0,sm.pi*4),  \n",
    "\n",
    "   (y,0,sm.pi*4), \n",
    "\n",
    "   xlabel= 'x', \n",
    "\n",
    "   ylabel= 'y', \n",
    "\n",
    "   title= f'z= f(x,y)= {z}', \n",
    "\n",
    "   show=False) \n",
    "\n",
    "q.show() "
   ]
  },
  {
   "cell_type": "code",
   "execution_count": null,
   "id": "b8deb612-f8c2-4ee6-9738-5f100e6a99dd",
   "metadata": {},
   "outputs": [],
   "source": []
  }
 ],
 "metadata": {
  "kernelspec": {
   "display_name": "Python 3",
   "language": "python",
   "name": "python3"
  },
  "language_info": {
   "codemirror_mode": {
    "name": "ipython",
    "version": 3
   },
   "file_extension": ".py",
   "mimetype": "text/x-python",
   "name": "python",
   "nbconvert_exporter": "python",
   "pygments_lexer": "ipython3",
   "version": "3.8.8"
  }
 },
 "nbformat": 4,
 "nbformat_minor": 5
}
