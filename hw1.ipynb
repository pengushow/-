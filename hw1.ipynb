{
 "cells": [
  {
   "cell_type": "markdown",
   "id": "0a8c6b6b-98be-4081-8aab-58862969f02c",
   "metadata": {},
   "source": [
    "# ryEx000.ipynb\n",
    "- 先熟悉一下環境\n"
   ]
  },
  {
   "cell_type": "code",
   "execution_count": null,
   "id": "d7dab526-568b-4dd9-b532-50a9037cec3a",
   "metadata": {},
   "outputs": [],
   "source": [
    "\n"
   ]
  },
  {
   "cell_type": "code",
   "execution_count": 1,
   "id": "73e11aa3-88e1-4c2c-b155-292731910a16",
   "metadata": {},
   "outputs": [
    {
     "data": {
      "text/plain": [
       "(1, 2, 3)"
      ]
     },
     "execution_count": 1,
     "metadata": {},
     "output_type": "execute_result"
    }
   ],
   "source": [
    "x= 1\n",
    "y= 2\n",
    "z= x+y\n",
    "\n",
    "x,y,z"
   ]
  },
  {
   "cell_type": "code",
   "execution_count": 2,
   "id": "31170523-3eb3-4b64-a17e-5c91b5646b7e",
   "metadata": {},
   "outputs": [
    {
     "data": {
      "text/plain": [
       "3"
      ]
     },
     "execution_count": 2,
     "metadata": {},
     "output_type": "execute_result"
    }
   ],
   "source": [
    "def f(x,y):\n",
    "    z= x+y\n",
    "    return z\n",
    "\n",
    "f(1, 2)"
   ]
  },
  {
   "cell_type": "code",
   "execution_count": 3,
   "id": "2bbd4c3f-ef6c-49a4-81a6-bc130d8271c1",
   "metadata": {},
   "outputs": [
    {
     "data": {
      "text/plain": [
       "(3, -1, 2, 0.5)"
      ]
     },
     "execution_count": 3,
     "metadata": {},
     "output_type": "execute_result"
    }
   ],
   "source": [
    "def add(x,y):\n",
    "    z= x+y\n",
    "    return z\n",
    "def sub(x,y):\n",
    "    z= x-y\n",
    "    return z\n",
    "def mul(x,y):\n",
    "    z= x*y\n",
    "    return z\n",
    "def div(x,y):\n",
    "    z= x/y\n",
    "    return z\n",
    "\n",
    "a= add(1,2)\n",
    "s= sub(1,2)\n",
    "m= mul(1,2)\n",
    "d= div(1,2)\n",
    "a,s,m,d"
   ]
  },
  {
   "cell_type": "code",
   "execution_count": 4,
   "id": "edf23529-1fd1-4e0b-a853-9170d6212250",
   "metadata": {},
   "outputs": [
    {
     "data": {
      "text/plain": [
       "(<__main__.Number at 0x171d9208d90>, 100, 101, 99, 100, 100.0)"
      ]
     },
     "execution_count": 4,
     "metadata": {},
     "output_type": "execute_result"
    }
   ],
   "source": [
    "class Number:\n",
    "    \n",
    "    def __init__(self,x=0):\n",
    "        self.x= x\n",
    "        \n",
    "    def add(self,y):\n",
    "        z= self.x + y\n",
    "        return z\n",
    "    \n",
    "    def sub(self,y):\n",
    "        z= self.x - y\n",
    "        return z\n",
    "    \n",
    "    def mul(self,y):\n",
    "        z= self.x * y\n",
    "        return z\n",
    "    \n",
    "    def div(self,y):\n",
    "        z= self.x / y\n",
    "        return z\n",
    "\n",
    "n= Number(100)\n",
    "a= n.add(1)\n",
    "s= n.sub(1)\n",
    "m= n.mul(1)\n",
    "d= n.div(1)\n",
    "n, n.x, a, s, m, d"
   ]
  },
  {
   "cell_type": "code",
   "execution_count": 5,
   "id": "1cdaad28-b170-4354-b9cf-72bdcba9c239",
   "metadata": {},
   "outputs": [
    {
     "data": {
      "text/plain": [
       "(<__main__.Number at 0x171d9208c10>, 100, 101, 99, 100, 100.0)"
      ]
     },
     "execution_count": 5,
     "metadata": {},
     "output_type": "execute_result"
    }
   ],
   "source": [
    "# 運用繼承的觀念，繼續擴充 物件內涵\n",
    "# dunder (double under，雙底線) __xxx__\n",
    "\n",
    "class Number(Number):\n",
    "        \n",
    "    def __add__(self,y):\n",
    "        z= self.add(y)\n",
    "        return z\n",
    "    def __sub__(self,y):\n",
    "        z= self.sub(y)\n",
    "        return z\n",
    "    def __mul__(self,y):\n",
    "        z= self.mul(y)\n",
    "        return z\n",
    "    def __truediv__(self,y): # 這個除法的名稱比較特殊\n",
    "        z= self.div(y)\n",
    "        return z\n",
    "\n",
    "\n",
    "n= Number(100)\n",
    "a= n.add(1)\n",
    "s= n.sub(1)\n",
    "m= n.mul(1)\n",
    "d= n.div(1)\n",
    "n, n.x, a, s, m, d"
   ]
  },
  {
   "cell_type": "code",
   "execution_count": 6,
   "id": "cc349315-0cf4-43d7-b3fa-2cb84eac1321",
   "metadata": {},
   "outputs": [
    {
     "data": {
      "text/plain": [
       "(<__main__.Number at 0x171d9208c10>, 100, 102, 98, 200, 50.0)"
      ]
     },
     "execution_count": 6,
     "metadata": {},
     "output_type": "execute_result"
    }
   ],
   "source": [
    "# __xxx___  double under (dunder)\n",
    "a= n.__add__(2)\n",
    "s= n.__sub__(2)\n",
    "m= n.__mul__(2)\n",
    "d= n.__truediv__(2)\n",
    "n, n.x, a, s, m, d"
   ]
  },
  {
   "cell_type": "code",
   "execution_count": 7,
   "id": "d46460b5-a33a-4721-809e-a3af2165243c",
   "metadata": {},
   "outputs": [
    {
     "data": {
      "text/plain": [
       "(<__main__.Number at 0x171d9208c10>, 100, 102, 98, 200, 50.0)"
      ]
     },
     "execution_count": 7,
     "metadata": {},
     "output_type": "execute_result"
    }
   ],
   "source": [
    "a= n+2\n",
    "s= n-2\n",
    "m= n*2\n",
    "d= n/2\n",
    "n, n.x, a, s, m, d"
   ]
  },
  {
   "cell_type": "code",
   "execution_count": 8,
   "id": "4d3f311b-e2a5-45e7-8c54-7494ebcb3fcb",
   "metadata": {},
   "outputs": [
    {
     "data": {
      "text/plain": [
       "100"
      ]
     },
     "execution_count": 8,
     "metadata": {},
     "output_type": "execute_result"
    }
   ],
   "source": [
    "class Number(Number):\n",
    "    \n",
    "    # print our string object\n",
    "    def __repr__(self):      # 更改 此 物件的 print() 結果。 以字串型態送出去。\n",
    "        return f'{self.x}'\n",
    "    pass\n",
    "    \n",
    "    \n",
    "n= Number(100)\n",
    "n\n"
   ]
  },
  {
   "cell_type": "code",
   "execution_count": 10,
   "id": "6180134e-9ae2-4656-bf46-facd53eb199d",
   "metadata": {},
   "outputs": [
    {
     "data": {
      "text/plain": [
       "'100'"
      ]
     },
     "execution_count": 10,
     "metadata": {},
     "output_type": "execute_result"
    }
   ],
   "source": [
    "nn=n.__repr__()\n",
    "nn"
   ]
  },
  {
   "cell_type": "code",
   "execution_count": 12,
   "id": "9b93850a-ebb4-43ac-a831-c71e6091f365",
   "metadata": {},
   "outputs": [
    {
     "data": {
      "text/plain": [
       "__main__.Number"
      ]
     },
     "execution_count": 12,
     "metadata": {},
     "output_type": "execute_result"
    }
   ],
   "source": [
    "type(n)\n"
   ]
  },
  {
   "cell_type": "code",
   "execution_count": 13,
   "id": "40a3ec41-180f-462e-9d86-052b05b3684b",
   "metadata": {},
   "outputs": [
    {
     "data": {
      "text/plain": [
       "str"
      ]
     },
     "execution_count": 13,
     "metadata": {},
     "output_type": "execute_result"
    }
   ],
   "source": [
    "type(nn)"
   ]
  },
  {
   "cell_type": "code",
   "execution_count": 10,
   "id": "408157d8-fdb9-4b5a-974e-3e31957cf1ba",
   "metadata": {},
   "outputs": [],
   "source": [
    "# 向量的加減乘除四則運算"
   ]
  },
  {
   "cell_type": "code",
   "execution_count": 14,
   "id": "95b5d434-4bf8-4022-bdca-e828a5feee33",
   "metadata": {},
   "outputs": [
    {
     "data": {
      "text/plain": [
       "[1, 2, 3, 10, 20, 30]"
      ]
     },
     "execution_count": 14,
     "metadata": {},
     "output_type": "execute_result"
    }
   ],
   "source": [
    "x= [1,2,3]\n",
    "y= [10,20,30]\n",
    "x+y"
   ]
  },
  {
   "cell_type": "code",
   "execution_count": 15,
   "id": "5dd0e0d4-f7cc-4b90-a263-e4724054f225",
   "metadata": {},
   "outputs": [
    {
     "ename": "TypeError",
     "evalue": "unsupported operand type(s) for -: 'list' and 'list'",
     "output_type": "error",
     "traceback": [
      "\u001b[1;31m---------------------------------------------------------------------------\u001b[0m",
      "\u001b[1;31mTypeError\u001b[0m                                 Traceback (most recent call last)",
      "\u001b[1;32m<ipython-input-15-83495f0e569d>\u001b[0m in \u001b[0;36m<module>\u001b[1;34m\u001b[0m\n\u001b[1;32m----> 1\u001b[1;33m \u001b[0mx\u001b[0m\u001b[1;33m-\u001b[0m\u001b[0my\u001b[0m\u001b[1;33m,\u001b[0m \u001b[0mx\u001b[0m\u001b[1;33m*\u001b[0m\u001b[0my\u001b[0m\u001b[1;33m,\u001b[0m \u001b[0mx\u001b[0m\u001b[1;33m/\u001b[0m\u001b[0my\u001b[0m\u001b[1;33m\u001b[0m\u001b[1;33m\u001b[0m\u001b[0m\n\u001b[0m",
      "\u001b[1;31mTypeError\u001b[0m: unsupported operand type(s) for -: 'list' and 'list'"
     ]
    }
   ],
   "source": [
    "x-y, x*y, x/y"
   ]
  },
  {
   "cell_type": "code",
   "execution_count": 16,
   "id": "9f8bbfb1-22bc-41f2-a951-b1d52b0057c1",
   "metadata": {},
   "outputs": [],
   "source": [
    "\n",
    "# Python List 的 運算 +, -, * , / 不是 我們在數學上向量、矩陣、、、等的定義方式。\n",
    "# 自己定義一個向量物件，使其符合數學上的定義！"
   ]
  },
  {
   "cell_type": "code",
   "execution_count": 17,
   "id": "1545c9ae-70ec-47b1-8df6-77a70fa94c9f",
   "metadata": {},
   "outputs": [
    {
     "data": {
      "text/plain": [
       "[11, 22, 33, 44]"
      ]
     },
     "execution_count": 17,
     "metadata": {},
     "output_type": "execute_result"
    }
   ],
   "source": [
    "class Vector:\n",
    "    def __init__(self, x):\n",
    "        self.x= x\n",
    "        \n",
    "    def add(self,y):    \n",
    "        z= [xi+yi for xi,yi in zip(self.x, y)]\n",
    "        return z\n",
    "\n",
    "v= Vector([1,2,3,4])\n",
    "v.add([10,20,30,40])"
   ]
  },
  {
   "cell_type": "code",
   "execution_count": 18,
   "id": "537801d2-9309-48ad-9a9c-78abe47809ad",
   "metadata": {},
   "outputs": [],
   "source": [
    "# 把它擴展成 +, - , *, / 都可以\n"
   ]
  },
  {
   "cell_type": "code",
   "execution_count": 19,
   "id": "609275a2-0d7c-4f45-b8ed-574b7bc87605",
   "metadata": {},
   "outputs": [
    {
     "data": {
      "text/plain": [
       "(<__main__.Vector at 0x171d92c2a30>, [1, 2, 3, 4])"
      ]
     },
     "execution_count": 19,
     "metadata": {},
     "output_type": "execute_result"
    }
   ],
   "source": [
    "class Vector:\n",
    "    def __init__(self, x):\n",
    "        self.x= x\n",
    "        \n",
    "    def add(self,y):    \n",
    "        z= [xi+yi for xi,yi in zip(self.x, y)]\n",
    "        return z\n",
    "    def sub(self,y):    \n",
    "        z= [xi-yi for xi,yi in zip(self.x, y)]\n",
    "        return z\n",
    "    def mul(self,y):    \n",
    "        z= [xi*yi for xi,yi in zip(self.x, y)]\n",
    "        return z\n",
    "    def div(self,y):    \n",
    "        z= [xi/yi for xi,yi in zip(self.x, y)]\n",
    "        return z\n",
    "    \n",
    "    def __add__(self,y):    \n",
    "        z= self.add(y)\n",
    "        return z\n",
    "    def __sub__(self,y):    \n",
    "        z= self.sub(y)\n",
    "        return z\n",
    "    def __mul__(self,y):    \n",
    "        z= self.mul(y)\n",
    "        return z\n",
    "    def __truediv__(self,y):    \n",
    "        z= self.div(y)\n",
    "        return z\n",
    "\n",
    "v= Vector([1,2,3,4])\n",
    "v, v.x"
   ]
  },
  {
   "cell_type": "code",
   "execution_count": 20,
   "id": "31eb2e8e-99dc-4ab0-a027-6e66be21ecfc",
   "metadata": {},
   "outputs": [
    {
     "data": {
      "text/plain": [
       "([1, 2, 3, 4],\n",
       " [11, 22, 33, 44],\n",
       " [-9, -18, -27, -36],\n",
       " [10, 40, 90, 160],\n",
       " [0.1, 0.1, 0.1, 0.1])"
      ]
     },
     "execution_count": 20,
     "metadata": {},
     "output_type": "execute_result"
    }
   ],
   "source": [
    "a= v + [10,20,30,40]\n",
    "s= v - [10,20,30,40]\n",
    "m= v * [10,20,30,40]\n",
    "d= v / [10,20,30,40]\n",
    "v.x, a, s, m, d"
   ]
  },
  {
   "cell_type": "code",
   "execution_count": null,
   "id": "68e4b628-1b8e-4681-8ad4-c3174d8053e5",
   "metadata": {},
   "outputs": [],
   "source": []
  },
  {
   "cell_type": "markdown",
   "id": "906fb3a0-a096-42a7-9211-6b4f99aee95e",
   "metadata": {},
   "source": [
    "# Numpy 就是把我們以上作的事情再進一步延伸.... 成為一個偉大的模組 (module)"
   ]
  },
  {
   "cell_type": "code",
   "execution_count": null,
   "id": "b21c6f48-8b21-4491-af47-ee0b22819877",
   "metadata": {},
   "outputs": [],
   "source": []
  },
  {
   "cell_type": "markdown",
   "id": "dfa8a5cb-a96e-4bfc-a927-67c5b57ae5ad",
   "metadata": {},
   "source": [
    "# Introduction to Linear Algebra with NumPy\n",
    "\n",
    "- https://towardsdatascience.com/introduction-to-linear-algebra-with-numpy-79adeb7bc060\n"
   ]
  },
  {
   "cell_type": "code",
   "execution_count": 18,
   "id": "8b319427-04cc-4d5c-8917-7487fc4bea5c",
   "metadata": {},
   "outputs": [],
   "source": [
    "import numpy as np\n"
   ]
  },
  {
   "cell_type": "code",
   "execution_count": 19,
   "id": "bcd8aa35-d156-4588-b044-90b4a35497ab",
   "metadata": {},
   "outputs": [
    {
     "data": {
      "text/plain": [
       "[1, 2, 3, 4]"
      ]
     },
     "execution_count": 19,
     "metadata": {},
     "output_type": "execute_result"
    }
   ],
   "source": [
    "v= [1, 2, 3, 4]\n",
    "v"
   ]
  },
  {
   "cell_type": "code",
   "execution_count": 20,
   "id": "b80523d2-62db-4d01-88a3-7efb3245ccbd",
   "metadata": {},
   "outputs": [
    {
     "data": {
      "text/plain": [
       "array([1, 2, 3, 4])"
      ]
     },
     "execution_count": 20,
     "metadata": {},
     "output_type": "execute_result"
    }
   ],
   "source": [
    "v= np.array(v)\n",
    "v"
   ]
  },
  {
   "cell_type": "code",
   "execution_count": 21,
   "id": "dddcd29c-61ec-4ac7-94a6-e9c489c20eb5",
   "metadata": {},
   "outputs": [
    {
     "data": {
      "text/plain": [
       "(4,)"
      ]
     },
     "execution_count": 21,
     "metadata": {},
     "output_type": "execute_result"
    }
   ],
   "source": [
    "v.shape"
   ]
  },
  {
   "cell_type": "code",
   "execution_count": 22,
   "id": "06911887-5c8f-4923-b770-dfd5cf6c8031",
   "metadata": {},
   "outputs": [
    {
     "data": {
      "text/plain": [
       "[[1, 2, 3, 4], [5, 6, 7, 8]]"
      ]
     },
     "execution_count": 22,
     "metadata": {},
     "output_type": "execute_result"
    }
   ],
   "source": [
    "A= [[1,2,3,4],\n",
    "    [5,6,7,8]]\n",
    "A"
   ]
  },
  {
   "cell_type": "code",
   "execution_count": 23,
   "id": "2cd6e02b-0391-4389-a06e-101ad8e8e154",
   "metadata": {},
   "outputs": [
    {
     "data": {
      "text/plain": [
       "array([[1, 2, 3, 4],\n",
       "       [5, 6, 7, 8]])"
      ]
     },
     "execution_count": 23,
     "metadata": {},
     "output_type": "execute_result"
    }
   ],
   "source": [
    "A= np.array(A)\n",
    "A"
   ]
  },
  {
   "cell_type": "code",
   "execution_count": 24,
   "id": "ed090b33-beb8-44e0-819a-06fd57591bbf",
   "metadata": {},
   "outputs": [
    {
     "data": {
      "text/plain": [
       "(2, 4)"
      ]
     },
     "execution_count": 24,
     "metadata": {},
     "output_type": "execute_result"
    }
   ],
   "source": [
    "A.shape"
   ]
  },
  {
   "cell_type": "code",
   "execution_count": 25,
   "id": "6fb11686-1631-458a-91fa-5e94618b2d51",
   "metadata": {},
   "outputs": [
    {
     "data": {
      "text/plain": [
       "[[1, 2, 3, 4], [5, 6, 7, 8], [9, 10, 11, 12], [13, 14, 15, 16]]"
      ]
     },
     "execution_count": 25,
     "metadata": {},
     "output_type": "execute_result"
    }
   ],
   "source": [
    "T=[[1,2,3,4],\n",
    "   [5,6,7,8],\n",
    "   [9,10,11,12],\n",
    "   [13,14,15,16]]\n",
    "T"
   ]
  },
  {
   "cell_type": "code",
   "execution_count": 26,
   "id": "b1c32e0a-a334-4b33-ac09-23b08c66814f",
   "metadata": {},
   "outputs": [
    {
     "data": {
      "text/plain": [
       "array([[ 1,  2,  3,  4],\n",
       "       [ 5,  6,  7,  8],\n",
       "       [ 9, 10, 11, 12],\n",
       "       [13, 14, 15, 16]])"
      ]
     },
     "execution_count": 26,
     "metadata": {},
     "output_type": "execute_result"
    }
   ],
   "source": [
    "T= np.array(T)\n",
    "T"
   ]
  },
  {
   "cell_type": "code",
   "execution_count": 27,
   "id": "fcc567ed-a8ef-489c-82ed-6652ad8b2a8b",
   "metadata": {},
   "outputs": [
    {
     "data": {
      "text/plain": [
       "(4, 4)"
      ]
     },
     "execution_count": 27,
     "metadata": {},
     "output_type": "execute_result"
    }
   ],
   "source": [
    "T.shape"
   ]
  },
  {
   "cell_type": "code",
   "execution_count": 28,
   "id": "9581bfd1-66ab-49dd-b902-6feb9c71eb36",
   "metadata": {},
   "outputs": [
    {
     "data": {
      "text/plain": [
       "array([[[ 1,  2,  3,  4],\n",
       "        [ 5,  6,  7,  8]],\n",
       "\n",
       "       [[ 9, 10, 11, 12],\n",
       "        [13, 14, 15, 16]]])"
      ]
     },
     "execution_count": 28,
     "metadata": {},
     "output_type": "execute_result"
    }
   ],
   "source": [
    "T= T.reshape((2,2,4))\n",
    "T"
   ]
  },
  {
   "cell_type": "code",
   "execution_count": 29,
   "id": "be0cf013-a469-4c6e-86af-2c298acd684c",
   "metadata": {},
   "outputs": [
    {
     "data": {
      "text/plain": [
       "(2, 2, 4)"
      ]
     },
     "execution_count": 29,
     "metadata": {},
     "output_type": "execute_result"
    }
   ],
   "source": [
    "T.shape"
   ]
  },
  {
   "cell_type": "code",
   "execution_count": 30,
   "id": "d000d8cf-912b-410d-af6c-a1fe83ad10ee",
   "metadata": {},
   "outputs": [
    {
     "data": {
      "text/plain": [
       "array([[1, 2, 3, 4],\n",
       "       [5, 6, 7, 8]])"
      ]
     },
     "execution_count": 30,
     "metadata": {},
     "output_type": "execute_result"
    }
   ],
   "source": [
    "T[0]"
   ]
  },
  {
   "cell_type": "code",
   "execution_count": 31,
   "id": "01a6895a-3abf-4685-8765-b0aa3b518928",
   "metadata": {},
   "outputs": [
    {
     "data": {
      "text/plain": [
       "array([[ 9, 10, 11, 12],\n",
       "       [13, 14, 15, 16]])"
      ]
     },
     "execution_count": 31,
     "metadata": {},
     "output_type": "execute_result"
    }
   ],
   "source": [
    "T[1]"
   ]
  },
  {
   "cell_type": "code",
   "execution_count": 32,
   "id": "ab4125bf-32c5-493c-9c70-b0264f898540",
   "metadata": {},
   "outputs": [
    {
     "data": {
      "text/plain": [
       "1"
      ]
     },
     "execution_count": 32,
     "metadata": {},
     "output_type": "execute_result"
    }
   ],
   "source": [
    "v.ndim"
   ]
  },
  {
   "cell_type": "code",
   "execution_count": 33,
   "id": "6af5aec8-e60f-4d2a-92c3-aa51d077e039",
   "metadata": {},
   "outputs": [
    {
     "data": {
      "text/plain": [
       "2"
      ]
     },
     "execution_count": 33,
     "metadata": {},
     "output_type": "execute_result"
    }
   ],
   "source": [
    "A.ndim"
   ]
  },
  {
   "cell_type": "code",
   "execution_count": 34,
   "id": "b87659d7-e224-48d2-9d84-f6e9b4ce710f",
   "metadata": {},
   "outputs": [
    {
     "data": {
      "text/plain": [
       "3"
      ]
     },
     "execution_count": 34,
     "metadata": {},
     "output_type": "execute_result"
    }
   ],
   "source": [
    "T.ndim"
   ]
  },
  {
   "cell_type": "markdown",
   "id": "95b61143-6636-4b15-adec-6b3c4031944f",
   "metadata": {},
   "source": [
    "![](https://miro.medium.com/max/555/0*Vh-pKXTJsdL-9FT0.png)"
   ]
  },
  {
   "cell_type": "code",
   "execution_count": 35,
   "id": "99a31865-d094-454f-901a-719680c3d1db",
   "metadata": {},
   "outputs": [
    {
     "data": {
      "text/plain": [
       "array([[[[ 1,  2],\n",
       "         [ 3,  4]],\n",
       "\n",
       "        [[ 5,  6],\n",
       "         [ 7,  8]]],\n",
       "\n",
       "\n",
       "       [[[ 9, 10],\n",
       "         [11, 12]],\n",
       "\n",
       "        [[13, 14],\n",
       "         [15, 16]]]])"
      ]
     },
     "execution_count": 35,
     "metadata": {},
     "output_type": "execute_result"
    }
   ],
   "source": [
    "T4d= T.reshape(2,2,2,2)\n",
    "T4d"
   ]
  },
  {
   "cell_type": "code",
   "execution_count": 36,
   "id": "242f2f1e-bacf-4111-8f8d-47d51ee9ccad",
   "metadata": {},
   "outputs": [
    {
     "data": {
      "text/plain": [
       "(2, 2, 2, 2)"
      ]
     },
     "execution_count": 36,
     "metadata": {},
     "output_type": "execute_result"
    }
   ],
   "source": [
    "T4d.shape"
   ]
  },
  {
   "cell_type": "code",
   "execution_count": 37,
   "id": "626ce727-77f8-45c9-823a-95656b6d8370",
   "metadata": {},
   "outputs": [
    {
     "data": {
      "text/plain": [
       "(array([1, 2, 3, 4]),\n",
       " array([[1, 2, 3, 4],\n",
       "        [5, 6, 7, 8]]),\n",
       " array([[[ 1,  2,  3,  4],\n",
       "         [ 5,  6,  7,  8]],\n",
       " \n",
       "        [[ 9, 10, 11, 12],\n",
       "         [13, 14, 15, 16]]]),\n",
       " array([[[[ 1,  2],\n",
       "          [ 3,  4]],\n",
       " \n",
       "         [[ 5,  6],\n",
       "          [ 7,  8]]],\n",
       " \n",
       " \n",
       "        [[[ 9, 10],\n",
       "          [11, 12]],\n",
       " \n",
       "         [[13, 14],\n",
       "          [15, 16]]]]))"
      ]
     },
     "execution_count": 37,
     "metadata": {},
     "output_type": "execute_result"
    }
   ],
   "source": [
    "v, A, T, T4d"
   ]
  },
  {
   "cell_type": "code",
   "execution_count": 38,
   "id": "4cae4b16-b67c-4f6f-87d4-34f5fd56390b",
   "metadata": {},
   "outputs": [
    {
     "data": {
      "text/plain": [
       "array([1, 2, 3, 4])"
      ]
     },
     "execution_count": 38,
     "metadata": {},
     "output_type": "execute_result"
    }
   ],
   "source": [
    "v"
   ]
  },
  {
   "cell_type": "code",
   "execution_count": 39,
   "id": "b849b5fe-6cc0-48aa-9d1d-492158340dd4",
   "metadata": {},
   "outputs": [
    {
     "data": {
      "text/plain": [
       "array([[1, 2, 3, 4]])"
      ]
     },
     "execution_count": 39,
     "metadata": {},
     "output_type": "execute_result"
    }
   ],
   "source": [
    "v14= v.reshape(1,4)\n",
    "v14"
   ]
  },
  {
   "cell_type": "code",
   "execution_count": 40,
   "id": "81d9290d-2478-40eb-829e-54c0c310a2c9",
   "metadata": {},
   "outputs": [
    {
     "data": {
      "text/plain": [
       "array([[1],\n",
       "       [2],\n",
       "       [3],\n",
       "       [4]])"
      ]
     },
     "execution_count": 40,
     "metadata": {},
     "output_type": "execute_result"
    }
   ],
   "source": [
    "v41= v.reshape(4,1)\n",
    "v41"
   ]
  },
  {
   "cell_type": "code",
   "execution_count": 41,
   "id": "0c73b8b4-9e93-428d-bbf0-ace8058ca2e0",
   "metadata": {},
   "outputs": [
    {
     "data": {
      "text/plain": [
       "((4,), (1, 4), (4, 1))"
      ]
     },
     "execution_count": 41,
     "metadata": {},
     "output_type": "execute_result"
    }
   ],
   "source": [
    "v.shape, v14.shape, v41.shape"
   ]
  },
  {
   "cell_type": "markdown",
   "id": "9c22178d-ad99-48f9-9ee9-cfca684d9670",
   "metadata": {},
   "source": [
    "# Vector Operations\n",
    "\n",
    "We have covered the basic structures. Now it is time to discuss basic operations that can be done on these structures.\n"
   ]
  },
  {
   "cell_type": "code",
   "execution_count": null,
   "id": "3ca05afe-a207-4705-b3cb-2a9346b2b32d",
   "metadata": {},
   "outputs": [],
   "source": []
  }
 ],
 "metadata": {
  "kernelspec": {
   "display_name": "Python 3",
   "language": "python",
   "name": "python3"
  },
  "language_info": {
   "codemirror_mode": {
    "name": "ipython",
    "version": 3
   },
   "file_extension": ".py",
   "mimetype": "text/x-python",
   "name": "python",
   "nbconvert_exporter": "python",
   "pygments_lexer": "ipython3",
   "version": "3.8.8"
  }
 },
 "nbformat": 4,
 "nbformat_minor": 5
}
