{
 "cells": [
  {
   "cell_type": "markdown",
   "id": "9f0e8078-37b2-4f94-9c0e-005f1ac12657",
   "metadata": {},
   "source": [
    "# Binomial theorem"
   ]
  },
  {
   "cell_type": "code",
   "execution_count": 96,
   "id": "a9173597-9630-4057-b282-372bbf812831",
   "metadata": {},
   "outputs": [],
   "source": [
    "import sympy as sm\n",
    "import numpy as np\n",
    "import math\n",
    "import matplotlib.pyplot as plt \n",
    "%matplotlib inline\n"
   ]
  },
  {
   "cell_type": "code",
   "execution_count": 15,
   "id": "9a7252b8-1558-4706-aed9-de56d8d670b7",
   "metadata": {},
   "outputs": [
    {
     "name": "stdout",
     "output_type": "stream",
     "text": [
      "\f",
      "\n"
     ]
    }
   ],
   "source": [
    "clear()"
   ]
  },
  {
   "cell_type": "code",
   "execution_count": 46,
   "id": "df0c2f4b-f4aa-4858-b88d-8cc0184eec7b",
   "metadata": {
    "collapsed": true,
    "jupyter": {
     "outputs_hidden": true
    },
    "tags": []
   },
   "outputs": [
    {
     "name": "stdout",
     "output_type": "stream",
     "text": [
      "n= 0, --------------------\n"
     ]
    },
    {
     "data": {
      "text/latex": [
       "$\\displaystyle 1$"
      ],
      "text/plain": [
       "1"
      ]
     },
     "metadata": {},
     "output_type": "display_data"
    },
    {
     "data": {
      "text/latex": [
       "$\\displaystyle 1$"
      ],
      "text/plain": [
       "1"
      ]
     },
     "metadata": {},
     "output_type": "display_data"
    },
    {
     "name": "stdout",
     "output_type": "stream",
     "text": [
      "n= 1, --------------------\n"
     ]
    },
    {
     "data": {
      "text/latex": [
       "$\\displaystyle x + y$"
      ],
      "text/plain": [
       "x + y"
      ]
     },
     "metadata": {},
     "output_type": "display_data"
    },
    {
     "data": {
      "text/latex": [
       "$\\displaystyle x + y$"
      ],
      "text/plain": [
       "x + y"
      ]
     },
     "metadata": {},
     "output_type": "display_data"
    },
    {
     "name": "stdout",
     "output_type": "stream",
     "text": [
      "n= 2, --------------------\n"
     ]
    },
    {
     "data": {
      "text/latex": [
       "$\\displaystyle \\left(x + y\\right)^{2}$"
      ],
      "text/plain": [
       "(x + y)**2"
      ]
     },
     "metadata": {},
     "output_type": "display_data"
    },
    {
     "data": {
      "text/latex": [
       "$\\displaystyle x^{2} + 2 x y + y^{2}$"
      ],
      "text/plain": [
       "x**2 + 2*x*y + y**2"
      ]
     },
     "metadata": {},
     "output_type": "display_data"
    },
    {
     "name": "stdout",
     "output_type": "stream",
     "text": [
      "n= 3, --------------------\n"
     ]
    },
    {
     "data": {
      "text/latex": [
       "$\\displaystyle \\left(x + y\\right)^{3}$"
      ],
      "text/plain": [
       "(x + y)**3"
      ]
     },
     "metadata": {},
     "output_type": "display_data"
    },
    {
     "data": {
      "text/latex": [
       "$\\displaystyle x^{3} + 3 x^{2} y + 3 x y^{2} + y^{3}$"
      ],
      "text/plain": [
       "x**3 + 3*x**2*y + 3*x*y**2 + y**3"
      ]
     },
     "metadata": {},
     "output_type": "display_data"
    },
    {
     "name": "stdout",
     "output_type": "stream",
     "text": [
      "n= 4, --------------------\n"
     ]
    },
    {
     "data": {
      "text/latex": [
       "$\\displaystyle \\left(x + y\\right)^{4}$"
      ],
      "text/plain": [
       "(x + y)**4"
      ]
     },
     "metadata": {},
     "output_type": "display_data"
    },
    {
     "data": {
      "text/latex": [
       "$\\displaystyle x^{4} + 4 x^{3} y + 6 x^{2} y^{2} + 4 x y^{3} + y^{4}$"
      ],
      "text/plain": [
       "x**4 + 4*x**3*y + 6*x**2*y**2 + 4*x*y**3 + y**4"
      ]
     },
     "metadata": {},
     "output_type": "display_data"
    },
    {
     "name": "stdout",
     "output_type": "stream",
     "text": [
      "n= 5, --------------------\n"
     ]
    },
    {
     "data": {
      "text/latex": [
       "$\\displaystyle \\left(x + y\\right)^{5}$"
      ],
      "text/plain": [
       "(x + y)**5"
      ]
     },
     "metadata": {},
     "output_type": "display_data"
    },
    {
     "data": {
      "text/latex": [
       "$\\displaystyle x^{5} + 5 x^{4} y + 10 x^{3} y^{2} + 10 x^{2} y^{3} + 5 x y^{4} + y^{5}$"
      ],
      "text/plain": [
       "x**5 + 5*x**4*y + 10*x**3*y**2 + 10*x**2*y**3 + 5*x*y**4 + y**5"
      ]
     },
     "metadata": {},
     "output_type": "display_data"
    },
    {
     "name": "stdout",
     "output_type": "stream",
     "text": [
      "n= 6, --------------------\n"
     ]
    },
    {
     "data": {
      "text/latex": [
       "$\\displaystyle \\left(x + y\\right)^{6}$"
      ],
      "text/plain": [
       "(x + y)**6"
      ]
     },
     "metadata": {},
     "output_type": "display_data"
    },
    {
     "data": {
      "text/latex": [
       "$\\displaystyle x^{6} + 6 x^{5} y + 15 x^{4} y^{2} + 20 x^{3} y^{3} + 15 x^{2} y^{4} + 6 x y^{5} + y^{6}$"
      ],
      "text/plain": [
       "x**6 + 6*x**5*y + 15*x**4*y**2 + 20*x**3*y**3 + 15*x**2*y**4 + 6*x*y**5 + y**6"
      ]
     },
     "metadata": {},
     "output_type": "display_data"
    },
    {
     "name": "stdout",
     "output_type": "stream",
     "text": [
      "n= 7, --------------------\n"
     ]
    },
    {
     "data": {
      "text/latex": [
       "$\\displaystyle \\left(x + y\\right)^{7}$"
      ],
      "text/plain": [
       "(x + y)**7"
      ]
     },
     "metadata": {},
     "output_type": "display_data"
    },
    {
     "data": {
      "text/latex": [
       "$\\displaystyle x^{7} + 7 x^{6} y + 21 x^{5} y^{2} + 35 x^{4} y^{3} + 35 x^{3} y^{4} + 21 x^{2} y^{5} + 7 x y^{6} + y^{7}$"
      ],
      "text/plain": [
       "x**7 + 7*x**6*y + 21*x**5*y**2 + 35*x**4*y**3 + 35*x**3*y**4 + 21*x**2*y**5 + 7*x*y**6 + y**7"
      ]
     },
     "metadata": {},
     "output_type": "display_data"
    },
    {
     "name": "stdout",
     "output_type": "stream",
     "text": [
      "n= 8, --------------------\n"
     ]
    },
    {
     "data": {
      "text/latex": [
       "$\\displaystyle \\left(x + y\\right)^{8}$"
      ],
      "text/plain": [
       "(x + y)**8"
      ]
     },
     "metadata": {},
     "output_type": "display_data"
    },
    {
     "data": {
      "text/latex": [
       "$\\displaystyle x^{8} + 8 x^{7} y + 28 x^{6} y^{2} + 56 x^{5} y^{3} + 70 x^{4} y^{4} + 56 x^{3} y^{5} + 28 x^{2} y^{6} + 8 x y^{7} + y^{8}$"
      ],
      "text/plain": [
       "x**8 + 8*x**7*y + 28*x**6*y**2 + 56*x**5*y**3 + 70*x**4*y**4 + 56*x**3*y**5 + 28*x**2*y**6 + 8*x*y**7 + y**8"
      ]
     },
     "metadata": {},
     "output_type": "display_data"
    },
    {
     "name": "stdout",
     "output_type": "stream",
     "text": [
      "n= 9, --------------------\n"
     ]
    },
    {
     "data": {
      "text/latex": [
       "$\\displaystyle \\left(x + y\\right)^{9}$"
      ],
      "text/plain": [
       "(x + y)**9"
      ]
     },
     "metadata": {},
     "output_type": "display_data"
    },
    {
     "data": {
      "text/latex": [
       "$\\displaystyle x^{9} + 9 x^{8} y + 36 x^{7} y^{2} + 84 x^{6} y^{3} + 126 x^{5} y^{4} + 126 x^{4} y^{5} + 84 x^{3} y^{6} + 36 x^{2} y^{7} + 9 x y^{8} + y^{9}$"
      ],
      "text/plain": [
       "x**9 + 9*x**8*y + 36*x**7*y**2 + 84*x**6*y**3 + 126*x**5*y**4 + 126*x**4*y**5 + 84*x**3*y**6 + 36*x**2*y**7 + 9*x*y**8 + y**9"
      ]
     },
     "metadata": {},
     "output_type": "display_data"
    },
    {
     "name": "stdout",
     "output_type": "stream",
     "text": [
      "n= 10, --------------------\n"
     ]
    },
    {
     "data": {
      "text/latex": [
       "$\\displaystyle \\left(x + y\\right)^{10}$"
      ],
      "text/plain": [
       "(x + y)**10"
      ]
     },
     "metadata": {},
     "output_type": "display_data"
    },
    {
     "data": {
      "text/latex": [
       "$\\displaystyle x^{10} + 10 x^{9} y + 45 x^{8} y^{2} + 120 x^{7} y^{3} + 210 x^{6} y^{4} + 252 x^{5} y^{5} + 210 x^{4} y^{6} + 120 x^{3} y^{7} + 45 x^{2} y^{8} + 10 x y^{9} + y^{10}$"
      ],
      "text/plain": [
       "x**10 + 10*x**9*y + 45*x**8*y**2 + 120*x**7*y**3 + 210*x**6*y**4 + 252*x**5*y**5 + 210*x**4*y**6 + 120*x**3*y**7 + 45*x**2*y**8 + 10*x*y**9 + y**10"
      ]
     },
     "metadata": {},
     "output_type": "display_data"
    }
   ],
   "source": [
    "\n",
    "# in Sympy, the Binomial Coefficients \n",
    "x,y=sm.symbols('x,y')\n",
    "\n",
    "for n in range(11): \n",
    "    q=  (x+y)**n \n",
    "    q1= q.expand() \n",
    "     \n",
    "    print(f'n= {n}, {\"-\"*20}')   \n",
    "    display(q) \n",
    "    display(q1) \n",
    "    "
   ]
  },
  {
   "cell_type": "code",
   "execution_count": 81,
   "id": "df87b72f-86e6-4e89-8cfa-16399910d4e1",
   "metadata": {},
   "outputs": [
    {
     "data": {
      "text/plain": [
       "<StemContainer object of 3 artists>"
      ]
     },
     "execution_count": 81,
     "metadata": {},
     "output_type": "execute_result"
    },
    {
     "data": {
      "image/png": "[encoded data removed]",
      "text/plain": [
       "<Figure size 432x288 with 1 Axes>"
      ]
     },
     "metadata": {
      "needs_background": "light"
     },
     "output_type": "display_data"
    }
   ],
   "source": [
    "plt.stem(sympy.poly(q1).coeffs())"
   ]
  },
  {
   "cell_type": "code",
   "execution_count": 92,
   "id": "071635df-af04-4124-9f71-b9e36752946b",
   "metadata": {},
   "outputs": [
    {
     "data": {
      "text/plain": [
       "[1, 10, 45, 120, 210, 252, 210, 120, 45, 10, 1]"
      ]
     },
     "execution_count": 92,
     "metadata": {},
     "output_type": "execute_result"
    }
   ],
   "source": [
    "sympy.poly(q1).coeffs()"
   ]
  },
  {
   "cell_type": "code",
   "execution_count": 82,
   "id": "162512c5-b2cd-4656-a19a-543e0bed25cf",
   "metadata": {},
   "outputs": [
    {
     "data": {
      "text/plain": [
       "<StemContainer object of 3 artists>"
      ]
     },
     "execution_count": 82,
     "metadata": {},
     "output_type": "execute_result"
    },
    {
     "data": {
      "image/png": "[encoded data removed]",
      "text/plain": [
       "<Figure size 432x288 with 1 Axes>"
      ]
     },
     "metadata": {
      "needs_background": "light"
     },
     "output_type": "display_data"
    }
   ],
   "source": [
    "plt.stem([1,2,3,4,5,6])\n"
   ]
  },
  {
   "cell_type": "code",
   "execution_count": 94,
   "id": "8ba6ce02-ec97-472e-86cb-299447ebdebc",
   "metadata": {},
   "outputs": [
    {
     "data": {
      "text/plain": [
       "array([Poly(x**10 + 10*x**9*y + 45*x**8*y**2 + 120*x**7*y**3 + 210*x**6*y**4 + 252*x**5*y**5 + 210*x**4*y**6 + 120*x**3*y**7 + 45*x**2*y**8 + 10*x*y**9 + y**10, x, y, domain='ZZ')],\n",
       "      dtype=object)"
      ]
     },
     "execution_count": 94,
     "metadata": {},
     "output_type": "execute_result"
    }
   ],
   "source": [
    "np.cumsum(sympy.poly(q1))"
   ]
  },
  {
   "cell_type": "code",
   "execution_count": 108,
   "id": "7bf50493-9c53-49dd-9d8f-983440a7fce3",
   "metadata": {},
   "outputs": [
    {
     "data": {
      "image/png": "[encoded data removed]",
      "text/plain": [
       "<Figure size 1080x432 with 10 Axes>"
      ]
     },
     "metadata": {
      "needs_background": "light"
     },
     "output_type": "display_data"
    }
   ],
   "source": [
    "# pdensities of x, x^2, and x^3 \n",
    "#%matplotlib qt \n",
    "%matplotlib inline\n",
    " \n",
    "\n",
    "t= np.linspace(-10,10,1000) \n",
    " \n",
    "\n",
    "fig, ax= plt.subplots(2,5) \n",
    "fig.set_size_inches(15,6) # width, height in inches \n",
    " \n",
    "\n",
    "for i in range(5): \n",
    "    #i=1     \n",
    "    # histogram of the function \n",
    "    values= t**i \n",
    "     \n",
    "    #np.random.shuffle(values) # 加上這行頗為有趣 \n",
    "     \n",
    "    counts, value_bins= np.histogram(values, 40) \n",
    "    counts= counts #/ sum(counts) \n",
    "     \n",
    "    # plot the function \n",
    "    ax[0,i].plot(values, t) \n",
    "    ax[0,i].set_xlabel('values') \n",
    "    ax[0,i].set_ylabel('t') \n",
    "    ax[0,i].set_title(f'$values= t^{i}$') \n",
    "     \n",
    "    # plot its distribution \n",
    "    ax[1,i].stem( \n",
    "        value_bins[:-1], \n",
    "        counts) \n",
    "    ax[1,i].set_xlabel('value_bins') \n",
    "    ax[1,i].set_ylabel('counts') \n",
    "     \n",
    "     \n",
    "plt.show() "
   ]
  },
  {
   "cell_type": "code",
   "execution_count": null,
   "id": "d239fb42-c522-4b6b-a6ab-51832db36c67",
   "metadata": {},
   "outputs": [],
   "source": []
  }
 ],
 "metadata": {
  "kernelspec": {
   "display_name": "Python 3",
   "language": "python",
   "name": "python3"
  },
  "language_info": {
   "codemirror_mode": {
    "name": "ipython",
    "version": 3
   },
   "file_extension": ".py",
   "mimetype": "text/x-python",
   "name": "python",
   "nbconvert_exporter": "python",
   "pygments_lexer": "ipython3",
   "version": "3.8.8"
  }
 },
 "nbformat": 4,
 "nbformat_minor": 5
}
